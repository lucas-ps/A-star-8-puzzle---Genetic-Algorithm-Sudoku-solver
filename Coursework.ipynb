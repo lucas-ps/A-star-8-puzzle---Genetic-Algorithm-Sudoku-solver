{
 "cells": [
  {
   "cell_type": "markdown",
   "metadata": {
    "collapsed": true,
    "pycharm": {
     "name": "#%% md\n"
    }
   },
   "source": [
    "# ECM2423 - Coursework exercise"
   ]
  },
  {
   "cell_type": "markdown",
   "metadata": {
    "pycharm": {
     "name": "#%% md\n"
    }
   },
   "source": [
    "### Question 1.1: Describe how you would frame the 8-puzzle problem as a search problem.\n",
    "\n",
    "For a problem to be framed as a search problem, more specifically a state space search, we need states, operators, a goal test and a path cost.\n",
    "\n",
    "In the 8-puzzle problem:\n",
    "- States are the locations of the tiles.\n",
    "- Operators are the tile movements (left, right, up, down).\n",
    "- Goal test is the given state that the puzzle aims to get to.\n",
    "- Path cost is the cost per move (probably 1)"
   ]
  },
  {
   "cell_type": "markdown",
   "metadata": {
    "pycharm": {
     "name": "#%% md\n"
    }
   },
   "source": [
    "### Question 1.2: Solve the 8-puzzle problem using A*\n",
    "\n",
    "#### 1. Briefly outline the A* algorithm.\n",
    "\n",
    "The A* algorithm works by working out a lowest-cost path tree from the start node to the target node. For each node, A* uses a heuristic function that gives an estimate of the total cost of a path if the tree uses that node.\n",
    "\n",
    "#### 2. Describe two admissible heuristic functions for the 8-puzzle problem and explain why they are admissible. Make sure you also explain why you chose these two heuristic functions in particular amongst all the possible ones.\n",
    "\n",
    "You could use:\n",
    "- The number of misplaced tiles: This could be used as a heuristic to ensure that this number is as low as possible so that the current search tree is optimal. This is also a very easy metric to measure and would not impact performance.\n",
    "- The Manhattan distance from tile's current positions and where they need to be, same as above, it would be optimal for the algorithm to ensure these values are as small as possible. This is a fairly accurate metric to measure and gives the algorithm a clear idea of how optimal a move might be.\n",
    "\n",
    "#### 3. Implement two versions of the A* algorithm in Python to solve the 8-puzzle using the two heuristic functions you have chosen. \n"
   ]
  },
  {
   "cell_type": "code",
   "execution_count": 41,
   "outputs": [
    {
     "name": "stdout",
     "output_type": "stream",
     "text": [
      "[[3, 7, 1], [2, 4, 8], [6, 0, 5]]\n",
      "41.0\n",
      "7\n"
     ]
    }
   ],
   "source": [
    "from random import shuffle\n",
    "from scipy.spatial.distance import cityblock\n",
    "\n",
    "class Puzzle:\n",
    "    \"\"\"\n",
    "    A puzzle is a list of 3 lists, which can be translated into a 3\n",
    "    layer puzzle, the empty spot is represented by a 0\n",
    "    \"\"\"\n",
    "    def __init__(self, puzzle_contents=None):\n",
    "        if puzzle_contents is None:\n",
    "            puzzle_contents = list(range(0,9))\n",
    "            shuffle(puzzle_contents)\n",
    "        puzzle = []\n",
    "        puzzle.append(puzzle_contents[0:3])\n",
    "        puzzle.append(puzzle_contents[3:6])\n",
    "        puzzle.append(puzzle_contents[6:9])\n",
    "        print(puzzle)\n",
    "        self.puzzle = puzzle\n",
    "\n",
    "    def __str__(self):\n",
    "        return ''.join(map(str, self))\n",
    "\n",
    "    @property\n",
    "    def is_solved(self):\n",
    "        return str(self) == [0,1,2,3,4,5,6,7,8]\n",
    "\n",
    "    @property\n",
    "    def manhattan_distance(self):\n",
    "        \"\"\"\n",
    "        Uses scipy's cityblock module to calculate manhattan distance\n",
    "        values, used for heristics\n",
    "        :return: The manhattan distance\n",
    "        \"\"\"\n",
    "        return cityblock(self.puzzle[0], self.puzzle[1], self.puzzle[2])\n",
    "\n",
    "    @property\n",
    "    def misplaced_tiles(self):\n",
    "        \"\"\"\n",
    "        Checks how many misplaced tiles there are, used for heuristics\n",
    "        :return: The misplaced tile count\n",
    "        \"\"\"\n",
    "        solved_puzzle = [0,1,2,3,4,5,6,7,8]\n",
    "        puzzle = sum(self.puzzle, [])\n",
    "        misplaced_tiles = 0\n",
    "        for i in range (len(solved_puzzle)):\n",
    "            if puzzle[i] != solved_puzzle[i]:\n",
    "                misplaced_tiles += 1\n",
    "        return misplaced_tiles\n",
    "\n",
    "class Node:\n",
    "    def __init__(self, puzzle, parent=None):\n",
    "        self.puzzle = puzzle\n",
    "        self.parent = parent\n",
    "        # TODO: Code to calculate g value\n",
    "        self.g = 0\n",
    "\n",
    "    def __str__(self):\n",
    "        return str(self.puzzle)\n",
    "\n",
    "    def h(self):\n",
    "        # TODO: Implement misplaced tiles as h function\n",
    "        return self.puzzle.manhattan_distance\n",
    "\n",
    "    def f(self):\n",
    "        return self.g + self.h\n",
    "\n",
    "class PuzzleSolver:\n",
    "    def solve(self):\n",
    "\n",
    "\n",
    "puzzle = Puzzle()\n",
    "print(puzzle.manhattan_distance)\n",
    "print(puzzle.misplaced_tiles)"
   ],
   "metadata": {
    "collapsed": false,
    "pycharm": {
     "name": "#%%\n"
    }
   }
  },
  {
   "cell_type": "markdown",
   "metadata": {
    "pycharm": {
     "name": "#%% md\n"
    }
   },
   "source": [
    "#### 4. Briefly discuss and compare the results given by A⋆ when using the two different heuristic functions in question 1.2.\n",
    "\n",
    "### Question 1.3: General solution of the 8-puzzle using A⋆\n",
    "\n",
    "#### Write a general version of the A* algorithm (using either of the two heuristic functions described above) to solve a generic version of the 8-puzzle where the user can input any start and goal state. (Hint: can this be done for any generic pair of configurations...?)"
   ]
  },
  {
   "cell_type": "markdown",
   "metadata": {
    "pycharm": {
     "name": "#%% md\n"
    }
   },
   "source": [
    "## Question 2.1: Design and implement the Sudoko problem using Evolutionary algorithm.\n",
    "\n",
    "#### 1. In first problem design your evolutionary algorithm addressing the following points in your design process. You should first briefly outline the how you representing Sudoko problem.\n",
    "\n",
    "##### (a) Choose an appropriate solution space and solution representation.\n",
    "##### (b) Define an appropriate fitness function.\n",
    "##### (c) Define a crossover operator for the chosen representation.\n",
    "##### (d) Define a mutation operator for the chosen representation.\n",
    "##### (e) Decide how to initialise the population.\n",
    "##### (f) Decide selection and replacement methods.\n",
    "##### (g) Choose an appropriate termination criterion. \n",
    "\n",
    "#### 2. you should implement the evolutionary algorithm in Python to solve the Sudoku problem. \n",
    "\n",
    "You will need to run experiments for the three Sudoku grids provided on the ELE page, for population sizes 10, 100, 1000, 10000. Each experiment (i.e., a specific combination of grid and population size) needs to be ran 5 times (each one with a different random seed) and average performance across runs considered. In total these amount to 3 x 4 x 5 = 60 runs."
   ]
  },
  {
   "cell_type": "markdown",
   "metadata": {
    "pycharm": {
     "name": "#%% md\n"
    }
   },
   "source": [
    "# Question 2.2: Analysis the Sudoko problem using Evolutionary algorithm.\n",
    "\n",
    "#### This question is help guide you to analysis your results based on the following questions.\n",
    "##### 1. What population size was the best?\n",
    "##### 2. What do you think is the reason for your findings in question 8.a?\n",
    "##### 3. Which grid was the easiest and which the hardest to solve?\n",
    "##### 4. What do you think might be the reason for your findings in question 8.c?\n",
    "##### 5. What further experiments do you think it may be useful to do and why?"
   ]
  },
  {
   "cell_type": "code",
   "execution_count": 41,
   "metadata": {},
   "outputs": [],
   "source": []
  }
 ],
 "metadata": {
  "kernelspec": {
   "display_name": "Python 3 (ipykernel)",
   "language": "python",
   "name": "python3"
  },
  "language_info": {
   "codemirror_mode": {
    "name": "ipython",
    "version": 3
   },
   "file_extension": ".py",
   "mimetype": "text/x-python",
   "name": "python",
   "nbconvert_exporter": "python",
   "pygments_lexer": "ipython3",
   "version": "3.8.9"
  }
 },
 "nbformat": 4,
 "nbformat_minor": 1
}