{
 "cells": [
  {
   "cell_type": "markdown",
   "metadata": {
    "collapsed": true,
    "pycharm": {
     "name": "#%% md\n"
    }
   },
   "source": [
    "# ECM2423 - Coursework exercise"
   ]
  },
  {
   "cell_type": "markdown",
   "metadata": {
    "pycharm": {
     "name": "#%% md\n"
    }
   },
   "source": [
    "### Question 1.1: Describe how you would frame the 8-puzzle problem as a search problem.\n",
    "\n",
    "For a problem to be framed as a search problem, more specifically a state space search, we need states, operators, a goal test and a path cost.\n",
    "\n",
    "In the 8-puzzle problem:\n",
    "- States are the locations of the tiles.\n",
    "- Operators are the tile movements (left, right, up, down).\n",
    "- Goal test is the given state that the puzzle aims to get to.\n",
    "- Path cost is the cost per move (probably 1)"
   ]
  },
  {
   "cell_type": "markdown",
   "metadata": {
    "pycharm": {
     "name": "#%% md\n"
    }
   },
   "source": [
    "### Question 1.2: Solve the 8-puzzle problem using A*\n",
    "\n",
    "#### 1. Briefly outline the A* algorithm.\n",
    "\n",
    "The A* algorithm works by working out a lowest-cost path tree from the start node to the target node. For each node, A* uses a heuristic function that gives an estimate of the total cost of a path if the tree uses that node.\n",
    "\n",
    "#### 2. Describe two admissible heuristic functions for the 8-puzzle problem and explain why they are admissible. Make sure you also explain why you chose these two heuristic functions in particular amongst all the possible ones.\n",
    "\n",
    "You could use:\n",
    "- The number of misplaced tiles: This could be used as a heuristic to ensure that this number is as low as possible so that the current search tree is optimal. This is also a very easy metric to measure and would not impact performance.\n",
    "- The Manhattan distance from tile's current positions and where they need to be, same as above, it would be optimal for the algorithm to ensure these values are as small as possible. This is a fairly accurate metric to measure and gives the algorithm a clear idea of how optimal a move might be.\n",
    "\n",
    "#### 3. Implement two versions of the A* algorithm in Python to solve the 8-puzzle using the two heuristic functions you have chosen."
   ]
  },
  {
   "cell_type": "code",
   "execution_count": 12,
   "metadata": {
    "pycharm": {
     "name": "#%%\n"
    }
   },
   "outputs": [
    {
     "name": "stdout",
     "output_type": "stream",
     "text": [
      "1 2 7 \n",
      "6 _ 4 \n",
      "8 3 5 \n",
      "  ↓\n",
      "1 2 7 \n",
      "6 3 4 \n",
      "8 _ 5 \n",
      "  ↓\n",
      "1 2 7 \n",
      "6 3 4 \n",
      "_ 8 5 \n",
      "  ↓\n",
      "1 2 7 \n",
      "_ 3 4 \n",
      "6 8 5 \n",
      "  ↓\n",
      "1 2 7 \n",
      "3 _ 4 \n",
      "6 8 5 \n",
      "  ↓\n",
      "1 2 7 \n",
      "3 4 _ \n",
      "6 8 5 \n",
      "  ↓\n",
      "1 2 _ \n",
      "3 4 7 \n",
      "6 8 5 \n",
      "  ↓\n",
      "1 _ 2 \n",
      "3 4 7 \n",
      "6 8 5 \n",
      "  ↓\n",
      "1 4 2 \n",
      "3 _ 7 \n",
      "6 8 5 \n",
      "  ↓\n",
      "1 4 2 \n",
      "3 7 _ \n",
      "6 8 5 \n",
      "  ↓\n",
      "1 4 2 \n",
      "3 7 5 \n",
      "6 8 _ \n",
      "  ↓\n",
      "1 4 2 \n",
      "3 7 5 \n",
      "6 _ 8 \n",
      "  ↓\n",
      "1 4 2 \n",
      "3 _ 5 \n",
      "6 7 8 \n",
      "  ↓\n",
      "1 _ 2 \n",
      "3 4 5 \n",
      "6 7 8 \n",
      "  ↓\n",
      "_ 1 2 \n",
      "3 4 5 \n",
      "6 7 8 \n",
      "\n",
      "Puzzle solved in 649 iterations\n",
      "Final f cost: 14\n",
      "Using Manhattan as heuristic\n",
      "1 2 7 \n",
      "6 _ 4 \n",
      "8 3 5 \n",
      "  ↓\n",
      "1 2 7 \n",
      "6 3 4 \n",
      "8 _ 5 \n",
      "  ↓\n",
      "1 2 7 \n",
      "6 3 4 \n",
      "_ 8 5 \n",
      "  ↓\n",
      "1 2 7 \n",
      "_ 3 4 \n",
      "6 8 5 \n",
      "  ↓\n",
      "1 2 7 \n",
      "3 _ 4 \n",
      "6 8 5 \n",
      "  ↓\n",
      "1 2 7 \n",
      "3 4 _ \n",
      "6 8 5 \n",
      "  ↓\n",
      "1 2 _ \n",
      "3 4 7 \n",
      "6 8 5 \n",
      "  ↓\n",
      "1 _ 2 \n",
      "3 4 7 \n",
      "6 8 5 \n",
      "  ↓\n",
      "1 4 2 \n",
      "3 _ 7 \n",
      "6 8 5 \n",
      "  ↓\n",
      "1 4 2 \n",
      "3 7 _ \n",
      "6 8 5 \n",
      "  ↓\n",
      "1 4 2 \n",
      "3 7 5 \n",
      "6 8 _ \n",
      "  ↓\n",
      "1 4 2 \n",
      "3 7 5 \n",
      "6 _ 8 \n",
      "  ↓\n",
      "1 4 2 \n",
      "3 _ 5 \n",
      "6 7 8 \n",
      "  ↓\n",
      "1 _ 2 \n",
      "3 4 5 \n",
      "6 7 8 \n",
      "  ↓\n",
      "_ 1 2 \n",
      "3 4 5 \n",
      "6 7 8 \n",
      "\n",
      "Puzzle solved in 4109 iterations\n",
      "Final f cost: 14\n",
      "Using misplaced tiles as heuristic\n",
      "\n"
     ]
    }
   ],
   "source": [
    "from A_star_8_Puzzle import q1_2_3\n",
    "\n",
    "# My 8-puzzle A* code can be found in the aStar8Puzzle file, my code specific to this question can be found in the q1_2_3 method\n",
    "q1_2_3()"
   ]
  },
  {
   "cell_type": "markdown",
   "metadata": {
    "pycharm": {
     "name": "#%% md\n"
    }
   },
   "source": [
    "#### 4. Briefly discuss and compare the results given by A⋆ when using the two different heuristic functions in question 1.2.\n",
    "\n",
    "Manhattan was a much better heuristic in my code. I used a test list of [1, 2, 7, 6, 0, 4, 8, 3, 5] which was solved in 649 iterations with manhattan and 4109 iterations with the missing tiles heuristic. Both ended up using the same steps with the same final f cost produced (14)\n",
    "\n",
    "### Question 1.3: General solution of the 8-puzzle using A⋆\n",
    "\n",
    "#### Write a general version of the A* algorithm (using either of the two heuristic functions described above) to solve a generic version of the 8-puzzle where the user can input any start and goal state. (Hint: can this be done for any generic pair of configurations...?)"
   ]
  },
  {
   "cell_type": "code",
   "execution_count": 14,
   "metadata": {
    "pycharm": {
     "name": "#%%\n"
    }
   },
   "outputs": [
    {
     "name": "stdout",
     "output_type": "stream",
     "text": [
      "Please enter in the numbers you would like to use for the puzzle, you must enter 9 numbers, 0-8, only using each one once and separating them by aspace\n",
      " eg. If you enter '0 1 2 3 4 5 6 7 8', you will create a puzzle that looks like this: \n",
      "_ 1 2\n",
      "3 4 5\n",
      "6 7 8 2 0 3 1 4 6 7 5 8 \n",
      "In the same format as above, please enter the goal state you'd like the puzzle to reach1 2 3 4 5 6 7 8 0\n",
      "2 _ 3 \n",
      "1 4 6 \n",
      "7 5 8 \n",
      "  ↓\n",
      "_ 2 3 \n",
      "1 4 6 \n",
      "7 5 8 \n",
      "  ↓\n",
      "1 2 3 \n",
      "_ 4 6 \n",
      "7 5 8 \n",
      "  ↓\n",
      "1 2 3 \n",
      "4 _ 6 \n",
      "7 5 8 \n",
      "  ↓\n",
      "1 2 3 \n",
      "4 5 6 \n",
      "7 _ 8 \n",
      "  ↓\n",
      "1 2 3 \n",
      "4 5 6 \n",
      "7 8 _ \n",
      "\n",
      "Puzzle solved in 591 iterations\n",
      "Final f cost: 14\n",
      "Using misplaced tiles as heuristic\n",
      "\n"
     ]
    }
   ],
   "source": [
    "from A_star_8_Puzzle import q1_3\n",
    "\n",
    "# My 8-puzzle A* code can be found in the aStar8Puzzle file, my code specific to this question can be found in the q1_3 method. This code assumes that the user enters a puzzle combination that can actually be solved\n",
    "q1_3()"
   ]
  },
  {
   "cell_type": "markdown",
   "metadata": {
    "pycharm": {
     "name": "#%% md\n"
    }
   },
   "source": [
    "## Question 2.1: Design and implement the Sudoko problem using Evolutionary algorithm.\n",
    "\n",
    "#### 1. In first problem design your evolutionary algorithm addressing the following points in your design process. You should first briefly outline how you representing Sudoko problem.\n",
    "\n",
    "I will be representing the problem as a list of lists, with each list representing a row of 'cells'. Each 'cell' corresponds to a position on the Sudoko puzzle. Each 'candidate' will represent a potential completed Sudoko puzzle, and these candidates will make up the defined population size.\n",
    "\n",
    "##### (a) Choose an appropriate solution space and solution representation.\n",
    "The solution space would be the set of all possible numbers, initial imperfect solutions can be represented by their score, the final results can be represented as a 2d array of the completed sudoko.\n",
    "\n",
    "##### (b) Define an appropriate fitness function.\n",
    "In sudoko, you don't want repeats, therefore I'll use the sum of the repeats per subgrid, column and row, to make a function to measure how good/bad a candidate is doing.\n",
    "\n",
    "##### (c) Define a crossover operator for the chosen representation.\n",
    "Create two new child candidates from productive parent candidates using uniform crossover, where at random, a random cell is either taken or not taken from one of the parents, essentially flipping a coin for each chromosome to decide whether it’ll be included in the child candidate.\n",
    "\n",
    "##### (d) Define a mutation operator for the chosen representation.\n",
    "For the mutation operator, it will randomly swap two legal cells in a random row, this will only occur in a certain amount of candidates as defined by a mutation rate.\n",
    "\n",
    "##### (e) Decide how to initialise the population.\n",
    "Initially, find what numbers can go in each cell, then, in all non given cells, put random numbers from the calculated suitable numbers. Produce as many of these candidates as is specified.\n",
    "\n",
    "##### (f) Decide selection and replacement methods.\n",
    "Select the best performing candidates and remove the worst performing ones, then a new generation of child candidates is created from random parents from the best performing candidates.\n",
    "\n",
    "##### (g) Choose an appropriate termination criterion.\n",
    "Terminate when fitness function yields a perfect score, or when the generation count gets too high (as there may be something wrong with the code/something that needs to be optimised.\n",
    "\n",
    "#### 2. you should implement the evolutionary algorithm in Python to solve the Sudoku problem. \n",
    "\n",
    "You will need to run experiments for the three Sudoku grids provided on the ELE page, for population sizes 10, 100, 1000, 10000. Each experiment (i.e., a specific combination of grid and population size) needs to be ran 5 times (each one with a different random seed) and average performance across runs considered. In total these amount to 3 x 4 x 5 = 60 runs."
   ]
  },
  {
   "cell_type": "markdown",
   "metadata": {
    "pycharm": {
     "name": "#%% md\n"
    }
   },
   "source": [
    "# Question 2.2: Analysis the Sudoko problem using Evolutionary algorithm.\n",
    "\n",
    "#### This question is help guide you to analysis your results based on the following questions.\n",
    "##### 1. What population size was the best?\n",
    "##### 2. What do you think is the reason for your findings in question 8.a?\n",
    "##### 3. Which grid was the easiest and which the hardest to solve?\n",
    "##### 4. What do you think might be the reason for your findings in question 8.c?\n",
    "##### 5. What further experiments do you think it may be useful to do and why?"
   ]
  },
  {
   "cell_type": "code",
   "execution_count": null,
   "metadata": {},
   "outputs": [],
   "source": []
  }
 ],
 "metadata": {
  "kernelspec": {
   "display_name": "Python 3 (ipykernel)",
   "language": "python",
   "name": "python3"
  },
  "language_info": {
   "codemirror_mode": {
    "name": "ipython",
    "version": 3
   },
   "file_extension": ".py",
   "mimetype": "text/x-python",
   "name": "python",
   "nbconvert_exporter": "python",
   "pygments_lexer": "ipython3",
   "version": "3.10.2"
  }
 },
 "nbformat": 4,
 "nbformat_minor": 1
}